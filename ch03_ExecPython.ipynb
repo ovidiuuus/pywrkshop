{
  "cells": [
    {
      "metadata": {
        "trusted": true
      },
      "cell_type": "code",
      "source": "import math\nmath.exp(2)",
      "execution_count": 1,
      "outputs": [
        {
          "output_type": "execute_result",
          "execution_count": 1,
          "data": {
            "text/plain": "7.38905609893065"
          },
          "metadata": {}
        }
      ]
    },
    {
      "metadata": {
        "trusted": true
      },
      "cell_type": "code",
      "source": "math.sqrt(7.38905609893065)",
      "execution_count": 2,
      "outputs": [
        {
          "output_type": "execute_result",
          "execution_count": 2,
          "data": {
            "text/plain": "2.718281828459045"
          },
          "metadata": {}
        }
      ]
    },
    {
      "metadata": {
        "trusted": true
      },
      "cell_type": "code",
      "source": "#Exercise 37: Finding the System time\nimport datetime\nprint(datetime.date.today())\n#print(datetime.timezone())",
      "execution_count": 20,
      "outputs": [
        {
          "output_type": "stream",
          "text": "2020-02-08\n",
          "name": "stdout"
        }
      ]
    },
    {
      "metadata": {
        "trusted": true
      },
      "cell_type": "code",
      "source": "result = 0\nfor n in range(1, 11): # Recall that this loops through 1 to 10, not including 11\n    result += n\nprint(result)",
      "execution_count": 21,
      "outputs": [
        {
          "output_type": "stream",
          "text": "55\n",
          "name": "stdout"
        }
      ]
    },
    {
      "metadata": {
        "trusted": true
      },
      "cell_type": "code",
      "source": "import datetime\n\nct = datetime.datetime.now()\nif __name__ == '__main__':\n    print(ct)\n",
      "execution_count": 31,
      "outputs": [
        {
          "output_type": "stream",
          "text": "2020-02-08 21:55:38.289306\n",
          "name": "stdout"
        }
      ]
    },
    {
      "metadata": {
        "trusted": true
      },
      "cell_type": "code",
      "source": "#Exercise 38: The maximum number\n\nl = [4, 2, 7, 3]\nmax = 0\nfor number in l:\n    if number > max:\n        max = number\n        \nprint(max)",
      "execution_count": 32,
      "outputs": [
        {
          "output_type": "stream",
          "text": "7\n",
          "name": "stdout"
        }
      ]
    },
    {
      "metadata": {
        "trusted": true
      },
      "cell_type": "code",
      "source": "# Exercise 39:  Bubble sort\nl = [5, 8, 1, 3, 2]\nstill_swap = True\nwhile still_swap:\n    still_swap = False\n    for i in range(len(l) - 1):\n        if l[i] > l[i+1]:\n            l[i], l[i+1] = l[i+1], l[i]\n            still_swap = True\n\nl",
      "execution_count": 33,
      "outputs": [
        {
          "output_type": "execute_result",
          "execution_count": 33,
          "data": {
            "text/plain": "[1, 2, 3, 5, 8]"
          },
          "metadata": {}
        }
      ]
    },
    {
      "metadata": {
        "trusted": true
      },
      "cell_type": "code",
      "source": "# Exercise 40 : Linear Search Algorithm im Python\nl = [5, 8, 1, 3, 2]\nsearch_for = 8\nresult = -1\nfor i in range(len(l)):\n    if search_for == l[i]:\n        result = i\n        break\n        \nprint(result)",
      "execution_count": 36,
      "outputs": [
        {
          "output_type": "stream",
          "text": "1\n",
          "name": "stdout"
        }
      ]
    },
    {
      "metadata": {
        "trusted": true
      },
      "cell_type": "code",
      "source": "# Exercise 41: Binary Search in Python\na = [2,3,5,8,11,12,18]\nsearch_for = 11\n\ns_start = 0\ns_end = len(a) - 1\nfound = False\n\nwhile s_start <= s_end and not found:\n    location = (s_start + s_end) // 2\n    if a[location] == search_for:\n        found = True\n    else:\n        if search_for < a[location]:\n            s_end = location - 1\n        else:\n            s_start = location + 1\n\nprint(found)\nprint(location)\n",
      "execution_count": 37,
      "outputs": [
        {
          "output_type": "stream",
          "text": "True\n4\n",
          "name": "stdout"
        }
      ]
    },
    {
      "metadata": {
        "trusted": true
      },
      "cell_type": "code",
      "source": "# Defining functions\n\ndef add_up(x, y):\n    return x + y\nadd_up(5, 7)",
      "execution_count": 38,
      "outputs": [
        {
          "output_type": "execute_result",
          "execution_count": 38,
          "data": {
            "text/plain": "12"
          },
          "metadata": {}
        }
      ]
    },
    {
      "metadata": {
        "trusted": true
      },
      "cell_type": "code",
      "source": "# Exercise 42 : Defining and Calling the Function in a Shell\ndef get_second_element(my_list):\n    if(len(my_list)) > 1 :\n        return my_list[1]\n    else:\n        return 'List was too small'\n    \nget_second_element([2, 3, 5])\nget_second_element([1])",
      "execution_count": 3,
      "outputs": [
        {
          "output_type": "execute_result",
          "execution_count": 3,
          "data": {
            "text/plain": "'List was too small'"
          },
          "metadata": {}
        }
      ]
    },
    {
      "metadata": {
        "trusted": true
      },
      "cell_type": "code",
      "source": "def sum_first_n(n):\n    result = 0\n    for i in range(n):\n        result += i + 1\n    return result\n\nsum_first_n(100)",
      "execution_count": 2,
      "outputs": [
        {
          "output_type": "execute_result",
          "execution_count": 2,
          "data": {
            "text/plain": "5050"
          },
          "metadata": {}
        }
      ]
    },
    {
      "metadata": {
        "trusted": true
      },
      "cell_type": "code",
      "source": "#Exercise 49 : Exiting the function during the for Loop\ndef is_prime(x):\n    for i in range(2, x):\n        if (x % i) == 0:\n            return False\n    return True\n\nis_prime(1000)",
      "execution_count": 6,
      "outputs": [
        {
          "output_type": "execute_result",
          "execution_count": 6,
          "data": {
            "text/plain": "False"
          },
          "metadata": {}
        }
      ]
    },
    {
      "metadata": {
        "trusted": true
      },
      "cell_type": "code",
      "source": "#Fibonacci iterative\ndef fib_iter(n):\n    prev = 0\n    curr = 1\n    for i in range(n-1):\n        curr_old = curr\n        curr = prev + curr\n        prev = curr_old\n    return curr\n\nfib_iter(50)",
      "execution_count": 2,
      "outputs": [
        {
          "output_type": "execute_result",
          "execution_count": 2,
          "data": {
            "text/plain": "12586269025"
          },
          "metadata": {}
        }
      ]
    },
    {
      "metadata": {
        "trusted": true
      },
      "cell_type": "code",
      "source": "#Fibonacci recursiv\ndef fib_rec(n):\n    if n == 0 or n == 1:\n        return n\n    else:\n        return fib_rec(n-2) + fib_rec(n-1)\n\ndef fib_seg(n):\n    print(\"Fibonacci sequence\")\n    for i in range(n):\n        print('F[%s]=' % (i+1), fib_iter(i+1))\n\nfib_rec(38)        \n#fib_seg(3)",
      "execution_count": 16,
      "outputs": [
        {
          "output_type": "execute_result",
          "execution_count": 16,
          "data": {
            "text/plain": "39088169"
          },
          "metadata": {}
        }
      ]
    },
    {
      "metadata": {
        "trusted": true
      },
      "cell_type": "code",
      "source": "#Factorial recursiv\ndef fac_rec(n):\n    if n == 1:\n        return 1\n    else:\n        return n * fac_rec(n-1)\n\nprint(fib_iter(69))\nprint(fac_rec(69))\n",
      "execution_count": 15,
      "outputs": [
        {
          "output_type": "stream",
          "text": "117669030460994\n171122452428141311372468338881272839092270544893520369393648040923257279754140647424000000000000000\n",
          "name": "stdout"
        }
      ]
    },
    {
      "metadata": {
        "trusted": true
      },
      "cell_type": "code",
      "source": "",
      "execution_count": null,
      "outputs": []
    }
  ],
  "metadata": {
    "kernelspec": {
      "name": "python36",
      "display_name": "Python 3.6",
      "language": "python"
    },
    "language_info": {
      "mimetype": "text/x-python",
      "nbconvert_exporter": "python",
      "name": "python",
      "pygments_lexer": "ipython3",
      "version": "3.6.6",
      "file_extension": ".py",
      "codemirror_mode": {
        "version": 3,
        "name": "ipython"
      }
    }
  },
  "nbformat": 4,
  "nbformat_minor": 2
}
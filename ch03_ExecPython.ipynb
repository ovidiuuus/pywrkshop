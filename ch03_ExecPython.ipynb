{
  "cells": [
    {
      "cell_type": "code",
      "execution_count": null,
      "metadata": {
        "trusted": true
      },
      "outputs": [],
      "source": [
        "import math\n",
        "math.exp(2)"
      ]
    },
    {
      "cell_type": "code",
      "execution_count": null,
      "metadata": {
        "trusted": true
      },
      "outputs": [],
      "source": [
        "math.sqrt(7.38905609893065)"
      ]
    },
    {
      "cell_type": "code",
      "execution_count": null,
      "metadata": {
        "trusted": true
      },
      "outputs": [],
      "source": [
        "#Exercise 37: Finding the System time\n",
        "import datetime\n",
        "print(datetime.date.today())\n",
        "#print(datetime.timezone())"
      ]
    },
    {
      "cell_type": "code",
      "execution_count": null,
      "metadata": {
        "trusted": true
      },
      "outputs": [],
      "source": [
        "result = 0\n",
        "for n in range(1, 11): # Recall that this loops through 1 to 10, not including 11\n",
        "    result += n\n",
        "print(result)"
      ]
    },
    {
      "cell_type": "code",
      "execution_count": null,
      "metadata": {
        "trusted": true
      },
      "outputs": [],
      "source": [
        "import datetime\n",
        "\n",
        "ct = datetime.datetime.now()\n",
        "if __name__ == '__main__':\n",
        "    print(ct)\n"
      ]
    },
    {
      "cell_type": "code",
      "execution_count": null,
      "metadata": {
        "trusted": true
      },
      "outputs": [],
      "source": [
        "#Exercise 38: The maximum number\n",
        "\n",
        "l = [4, 2, 7, 3]\n",
        "max = 0\n",
        "for number in l:\n",
        "    if number > max:\n",
        "        max = number\n",
        "        \n",
        "print(max)"
      ]
    },
    {
      "cell_type": "code",
      "execution_count": null,
      "metadata": {
        "trusted": true
      },
      "outputs": [],
      "source": [
        "# Exercise 39:  Bubble sort\n",
        "l = [5, 8, 1, 3, 2]\n",
        "still_swap = True\n",
        "while still_swap:\n",
        "    still_swap = False\n",
        "    for i in range(len(l) - 1):\n",
        "        if l[i] > l[i+1]:\n",
        "            l[i], l[i+1] = l[i+1], l[i]\n",
        "            still_swap = True\n",
        "\n",
        "l"
      ]
    },
    {
      "cell_type": "code",
      "execution_count": null,
      "metadata": {
        "trusted": true
      },
      "outputs": [],
      "source": [
        "# Exercise 40 : Linear Search Algorithm im Python\n",
        "l = [5, 8, 1, 3, 2]\n",
        "search_for = 8\n",
        "result = -1\n",
        "for i in range(len(l)):\n",
        "    if search_for == l[i]:\n",
        "        result = i\n",
        "        break\n",
        "        \n",
        "print(result)"
      ]
    },
    {
      "cell_type": "code",
      "execution_count": null,
      "metadata": {
        "trusted": true
      },
      "outputs": [],
      "source": [
        "# Exercise 41: Binary Search in Python\n",
        "a = [2,3,5,8,11,12,18]\n",
        "search_for = 11\n",
        "\n",
        "s_start = 0\n",
        "s_end = len(a) - 1\n",
        "found = False\n",
        "\n",
        "while s_start <= s_end and not found:\n",
        "    location = (s_start + s_end) // 2\n",
        "    if a[location] == search_for:\n",
        "        found = True\n",
        "    else:\n",
        "        if search_for < a[location]:\n",
        "            s_end = location - 1\n",
        "        else:\n",
        "            s_start = location + 1\n",
        "\n",
        "print(found)\n",
        "print(location)\n"
      ]
    },
    {
      "cell_type": "code",
      "execution_count": null,
      "metadata": {
        "trusted": true
      },
      "outputs": [],
      "source": [
        "# Defining functions\n",
        "\n",
        "def add_up(x, y):\n",
        "    return x + y\n",
        "add_up(5, 7)"
      ]
    },
    {
      "cell_type": "code",
      "execution_count": null,
      "metadata": {
        "trusted": true
      },
      "outputs": [],
      "source": [
        "# Exercise 42 : Defining and Calling the Function in a Shell\n",
        "def get_second_element(my_list):\n",
        "    if(len(my_list)) > 1 :\n",
        "        return my_list[1]\n",
        "    else:\n",
        "        return 'List was too small'\n",
        "    \n",
        "get_second_element([2, 3, 5])\n",
        "get_second_element([1])"
      ]
    },
    {
      "cell_type": "code",
      "execution_count": null,
      "metadata": {
        "trusted": true
      },
      "outputs": [],
      "source": [
        "def sum_first_n(n):\n",
        "    result = 0\n",
        "    for i in range(n):\n",
        "        result += i + 1\n",
        "    return result\n",
        "\n",
        "sum_first_n(100)"
      ]
    },
    {
      "cell_type": "code",
      "execution_count": null,
      "metadata": {},
      "outputs": [],
      "source": [
        "#Exercise 49 : Exiting the function during the for Loop\n",
        "def is_prime(x):\n",
        "    for i in range(2, x):\n",
        "        if (x % i) == 0:\n",
        "            return False\n",
        "    return True\n",
        "\n",
        "is_prime(1000)"
      ]
    },
    {
      "cell_type": "code",
      "execution_count": null,
      "metadata": {},
      "outputs": [],
      "source": [
        "#Fibonacci iterative\n",
        "def fib_iter(n):\n",
        "    prev = 0\n",
        "    curr = 1\n",
        "    for i in range(n-1):\n",
        "        curr_old = curr\n",
        "        curr = prev + curr\n",
        "        prev = curr_old\n",
        "    return curr\n",
        "\n",
        "fib_iter(50)"
      ]
    },
    {
      "cell_type": "code",
      "execution_count": null,
      "metadata": {},
      "outputs": [],
      "source": [
        "#Fibonacci recursiv\n",
        "def fib_rec(n):\n",
        "    if n == 0 or n == 1:\n",
        "        return n\n",
        "    else:\n",
        "        return fib_rec(n-2) + fib_rec(n-1)\n",
        "\n",
        "def fib_seg(n):\n",
        "    print(\"Fibonacci sequence\")\n",
        "    for i in range(n):\n",
        "        print('F[%s]=' % (i+1), fib_iter(i+1))\n",
        "\n",
        "fib_rec(3)        \n",
        "#fib_seg(3)"
      ]
    },
    {
      "cell_type": "code",
      "execution_count": null,
      "metadata": {},
      "outputs": [],
      "source": [
        "#Factorial recursiv\n",
        "def fac_rec(n):\n",
        "    if n == 1:\n",
        "        return 1\n",
        "    else:\n",
        "        return n * fac_rec(n-1)\n",
        "\n",
        "print(fib_iter(69))\n",
        "print(fac_rec(69))\n"
      ]
    },
    {
      "cell_type": "code",
      "execution_count": null,
      "metadata": {},
      "outputs": [],
      "source": [
        "#Recursive function\n",
        "def print_the_next_number(start):\n",
        "    print(start + 1)\n",
        "    if start >= 20:\n",
        "        return \"I'm bored!\"\n",
        "    return print_the_next_number(start + 1)\n",
        "\n",
        "print_the_next_number(5)"
      ]
    },
    {
      "cell_type": "code",
      "execution_count": null,
      "metadata": {},
      "outputs": [],
      "source": [
        "#Exercise 50. Recursive countdown\n",
        "def countdown(n):\n",
        "    if n == 0:\n",
        "        print(\"LiftOff!\")\n",
        "    else:\n",
        "        print(n)\n",
        "        return countdown(n-1)\n",
        "\n",
        "countdown(20)"
      ]
    },
    {
      "cell_type": "code",
      "execution_count": null,
      "metadata": {},
      "outputs": [],
      "source": [
        "#Exercise 51: Factorial iterative and Recursive\n",
        "\n",
        "def fac_iter(n):\n",
        "    result = 1\n",
        "    for i in range(n):\n",
        "        result *= (i+1)\n",
        "    return result\n",
        "\n",
        "def fac_rec(n):\n",
        "    if n == 1:\n",
        "        return 1\n",
        "    else:\n",
        "        return n * fac_rec(n - 1)\n",
        "\n",
        "#fac_iter(10)\n",
        "fac_rec(5)"
      ]
    },
    {
      "cell_type": "code",
      "execution_count": 1,
      "metadata": {},
      "outputs": [
        {
          "name": "stdout",
          "output_type": "stream",
          "text": "2\n"
        }
      ],
      "source": [
        "print(2)"
      ]
    },
    {
      "cell_type": "code",
      "execution_count": null,
      "metadata": {},
      "outputs": [],
      "source": []
    }
  ],
  "metadata": {
    "kernelspec": {
      "name": "python37464bit72b7884c48414b05a9aa70c774bdb290",
      "display_name": "Python 3.7.4 64-bit",
      "language": "python"
    },
    "language_info": {
      "mimetype": "text/x-python",
      "nbconvert_exporter": "python",
      "name": "python",
      "pygments_lexer": "ipython3",
      "version": "3.7.4-final",
      "file_extension": ".py",
      "codemirror_mode": {
        "version": 3,
        "name": "ipython"
      }
    }
  },
  "nbformat": 4,
  "nbformat_minor": 2
}
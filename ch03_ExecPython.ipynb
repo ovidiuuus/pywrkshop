{
  "cells": [
    {
      "cell_type": "code",
      "execution_count": null,
      "metadata": {},
      "outputs": [],
      "source": [
        "import math\n",
        "math.exp(2)"
      ]
    },
    {
      "cell_type": "code",
      "execution_count": null,
      "metadata": {},
      "outputs": [],
      "source": [
        "math.sqrt(7.38905609893065)"
      ]
    },
    {
      "cell_type": "code",
      "execution_count": null,
      "metadata": {},
      "outputs": [],
      "source": [
        "#Exercise 37: Finding the System time\n",
        "import datetime\n",
        "print(datetime.date.today())\n",
        "#print(datetime.timezone())"
      ]
    },
    {
      "cell_type": "code",
      "execution_count": null,
      "metadata": {},
      "outputs": [],
      "source": [
        "result = 0\n",
        "for n in range(1, 11): # Recall that this loops through 1 to 10, not including 11\n",
        "    result += n\n",
        "print(result)"
      ]
    },
    {
      "cell_type": "code",
      "execution_count": null,
      "metadata": {},
      "outputs": [],
      "source": [
        "import datetime\n",
        "\n",
        "ct = datetime.datetime.now()\n",
        "if __name__ == '__main__':\n",
        "    print(ct)\n"
      ]
    },
    {
      "cell_type": "code",
      "execution_count": null,
      "metadata": {},
      "outputs": [],
      "source": [
        "#Exercise 38: The maximum number\n",
        "\n",
        "l = [4, 2, 7, 3]\n",
        "max = 0\n",
        "for number in l:\n",
        "    if number > max:\n",
        "        max = number\n",
        "        \n",
        "print(max)"
      ]
    },
    {
      "cell_type": "code",
      "execution_count": null,
      "metadata": {},
      "outputs": [],
      "source": [
        "# Exercise 39:  Bubble sort\n",
        "l = [5, 8, 1, 3, 2]\n",
        "still_swap = True\n",
        "while still_swap:\n",
        "    still_swap = False\n",
        "    for i in range(len(l) - 1):\n",
        "        if l[i] > l[i+1]:\n",
        "            l[i], l[i+1] = l[i+1], l[i]\n",
        "            still_swap = True\n",
        "\n",
        "l"
      ]
    },
    {
      "cell_type": "code",
      "execution_count": null,
      "metadata": {},
      "outputs": [],
      "source": [
        "# Exercise 40 : Linear Search Algorithm im Python\n",
        "l = [5, 8, 1, 3, 2]\n",
        "search_for = 8\n",
        "result = -1\n",
        "for i in range(len(l)):\n",
        "    if search_for == l[i]:\n",
        "        result = i\n",
        "        break\n",
        "        \n",
        "print(result)"
      ]
    },
    {
      "cell_type": "code",
      "execution_count": null,
      "metadata": {},
      "outputs": [],
      "source": [
        "# Exercise 41: Binary Search in Python\n",
        "a = [2,3,5,8,11,12,18]\n",
        "search_for = 11\n",
        "\n",
        "s_start = 0\n",
        "s_end = len(a) - 1\n",
        "found = False\n",
        "\n",
        "while s_start <= s_end and not found:\n",
        "    location = (s_start + s_end) // 2\n",
        "    if a[location] == search_for:\n",
        "        found = True\n",
        "    else:\n",
        "        if search_for < a[location]:\n",
        "            s_end = location - 1\n",
        "        else:\n",
        "            s_start = location + 1\n",
        "\n",
        "print(found)\n",
        "print(location)\n"
      ]
    },
    {
      "cell_type": "code",
      "execution_count": null,
      "metadata": {},
      "outputs": [],
      "source": [
        "# Defining functions\n",
        "\n",
        "def add_up(x, y):\n",
        "    return x + y\n",
        "add_up(5, 7)"
      ]
    },
    {
      "cell_type": "code",
      "execution_count": null,
      "metadata": {},
      "outputs": [],
      "source": [
        "# Exercise 42 : Defining and Calling the Function in a Shell\n",
        "def get_second_element(my_list):\n",
        "    if(len(my_list)) > 1 :\n",
        "        return my_list[1]\n",
        "    else:\n",
        "        return 'List was too small'\n",
        "    \n",
        "get_second_element([2, 3, 5])\n",
        "get_second_element([1])"
      ]
    },
    {
      "cell_type": "code",
      "execution_count": null,
      "metadata": {},
      "outputs": [],
      "source": [
        "def sum_first_n(n):\n",
        "    result = 0\n",
        "    for i in range(n):\n",
        "        result += i + 1\n",
        "    return result\n",
        "\n",
        "sum_first_n(100)"
      ]
    },
    {
      "cell_type": "code",
      "execution_count": null,
      "metadata": {},
      "outputs": [],
      "source": [
        "#Exercise 49 : Exiting the function during the for Loop\n",
        "def is_prime(x):\n",
        "    for i in range(2, x):\n",
        "        if (x % i) == 0:\n",
        "            return False\n",
        "    return True\n",
        "\n",
        "is_prime(1000)"
      ]
    },
    {
      "cell_type": "code",
      "execution_count": null,
      "metadata": {},
      "outputs": [],
      "source": [
        "#Fibonacci iterative\n",
        "def fib_iter(n):\n",
        "    prev = 0\n",
        "    curr = 1\n",
        "    for i in range(n-1):\n",
        "        curr_old = curr\n",
        "        curr = prev + curr\n",
        "        prev = curr_old\n",
        "    return curr\n",
        "\n",
        "fib_iter(50)"
      ]
    },
    {
      "cell_type": "code",
      "execution_count": null,
      "metadata": {},
      "outputs": [],
      "source": [
        "#Fibonacci recursiv\n",
        "def fib_rec(n):\n",
        "    if n == 0 or n == 1:\n",
        "        return n\n",
        "    else:\n",
        "        return fib_rec(n-2) + fib_rec(n-1)\n",
        "\n",
        "def fib_seg(n):\n",
        "    print(\"Fibonacci sequence\")\n",
        "    for i in range(n):\n",
        "        print('F[%s]=' % (i+1), fib_iter(i+1))\n",
        "\n",
        "fib_rec(3)        \n",
        "#fib_seg(3)"
      ]
    },
    {
      "cell_type": "code",
      "execution_count": null,
      "metadata": {},
      "outputs": [],
      "source": [
        "#Factorial recursiv\n",
        "def fac_rec(n):\n",
        "    if n == 1:\n",
        "        return 1\n",
        "    else:\n",
        "        return n * fac_rec(n-1)\n",
        "\n",
        "print(fib_iter(69))\n",
        "print(fac_rec(69))\n"
      ]
    },
    {
      "cell_type": "code",
      "execution_count": null,
      "metadata": {},
      "outputs": [],
      "source": [
        "#Recursive function\n",
        "def print_the_next_number(start):\n",
        "    print(start + 1)\n",
        "    if start >= 20:\n",
        "        return \"I'm bored!\"\n",
        "    return print_the_next_number(start + 1)\n",
        "\n",
        "print_the_next_number(5)"
      ]
    },
    {
      "cell_type": "code",
      "execution_count": null,
      "metadata": {},
      "outputs": [],
      "source": [
        "#Exercise 50. Recursive countdown\n",
        "def countdown(n):\n",
        "    if n == 0:\n",
        "        print(\"LiftOff!\")\n",
        "    else:\n",
        "        print(n)\n",
        "        return countdown(n-1)\n",
        "\n",
        "countdown(20)"
      ]
    },
    {
      "cell_type": "code",
      "execution_count": null,
      "metadata": {},
      "outputs": [],
      "source": [
        "#Exercise 51: Factorial iterative and Recursive\n",
        "\n",
        "def fac_iter(n):\n",
        "    result = 1\n",
        "    for i in range(n):\n",
        "        result *= (i+1)\n",
        "    return result\n",
        "\n",
        "def fac_rec(n):\n",
        "    if n == 1:\n",
        "        return 1\n",
        "    else:\n",
        "        return n * fac_rec(n - 1)\n",
        "\n",
        "#fac_iter(10)\n",
        "fac_rec(5)"
      ]
    },
    {
      "cell_type": "code",
      "execution_count": null,
      "metadata": {},
      "outputs": [],
      "source": [
        "#Exercise 52: Dynamic Programming - Summing Integers\n",
        "stored_results = {}\n",
        "def sum_to_n(n):\n",
        "    result = 0\n",
        "    for i in reversed(range(n)):\n",
        "        if (i + 1) in stored_results:\n",
        "            print('Stopping sum at %s because we have previously computed it' % str(i + 1))\n",
        "            result += stored_results[i + 1]\n",
        "            break\n",
        "        else:\n",
        "            result += i + 1\n",
        "    stored_results[n] = result\n",
        "    return result"
      ]
    },
    {
      "cell_type": "code",
      "execution_count": null,
      "metadata": {},
      "outputs": [],
      "source": [
        "sum_to_n(6)\n",
        "stored_results"
      ]
    },
    {
      "cell_type": "code",
      "execution_count": null,
      "metadata": {},
      "outputs": [],
      "source": [
        "import time\n",
        "def do_things():\n",
        "    start_time = time.perf_counter()\n",
        "    for i in range(10):\n",
        "        y = i ** 100\n",
        "        print(y, \"caculated in\",time.perf_counter() - start_time, \"seconds\")\n",
        "    x = 10**2\n",
        "    print(time.perf_counter() - start_time, \"seconds_elapsed\")\n",
        "    return x\n",
        "\n",
        "do_things()"
      ]
    },
    {
      "cell_type": "code",
      "execution_count": null,
      "metadata": {},
      "outputs": [],
      "source": [
        "import time\n",
        "\n",
        "def print_time_elapsed(start_time):\n",
        "    print(time.perf_counter() - start_time, \"seconds elapsed\")\n",
        "\n",
        "def do_things_help():\n",
        "    start_time = time.perf_counter()\n",
        "    for i in range(10):\n",
        "        y = i ** 100\n",
        "        print_time_elapsed(start_time)\n",
        "    x = 10**2\n",
        "    print_time_elapsed(start_time)\n",
        "    return x\n",
        "\n",
        "do_things_help()"
      ]
    },
    {
      "cell_type": "code",
      "execution_count": null,
      "metadata": {},
      "outputs": [],
      "source": [
        "def convert_currency(amount, rate, margin = 0):\n",
        "    return amount * rate * (1 + margin)\n",
        "\n",
        "def compute_usd_total(amount_in_aud=0, amount_in_gbp=0):\n",
        "    total = 0\n",
        "    total += convert_currency(amount_in_aud, 0.78)\n",
        "    total += convert_currency(amount_in_gbp, 1.29, 0.01)\n",
        "    return total\n",
        "\n",
        "compute_usd_total(amount_in_gbp=10)\n"
      ]
    },
    {
      "cell_type": "code",
      "execution_count": null,
      "metadata": {},
      "outputs": [],
      "source": [
        "#Variable scope\n",
        "x = 3\n",
        "def my_func():\n",
        "    x = 5\n",
        "    print(x)\n",
        "\n",
        "my_func()\n",
        "print(x) "
      ]
    },
    {
      "cell_type": "code",
      "execution_count": null,
      "metadata": {},
      "outputs": [],
      "source": [
        "#Global Keyword\n",
        "\n",
        "score = 0\n",
        "def update_score(new_score):\n",
        "    global score\n",
        "    score = new_score\n",
        "\n",
        "update_score(100)\n",
        "print(score)\n"
      ]
    },
    {
      "cell_type": "code",
      "execution_count": null,
      "metadata": {},
      "outputs": [],
      "source": [
        "x = 4\n",
        "def my_fff():\n",
        "    x = 3\n",
        "    def inner():\n",
        "        global x\n",
        "        print(x)\n",
        "    inner()\n",
        "my_fff()"
      ]
    },
    {
      "cell_type": "code",
      "execution_count": null,
      "metadata": {},
      "outputs": [],
      "source": [
        "#Lambda functions\n",
        "#lambda arguments : expression\n",
        "add_up = lambda x, y: x + y\n",
        "print(add_up(2, 4))"
      ]
    },
    {
      "cell_type": "markdown",
      "execution_count": null,
      "metadata": {},
      "outputs": [],
      "source": [
        "#Exercise 55: The first item in a list"
      ]
    },
    {
      "cell_type": "code",
      "execution_count": null,
      "metadata": {},
      "outputs": [],
      "source": [
        "first_item = lambda mylist: mylist[0]\n",
        "first_item(['cat', 'dog', 'mouse'])"
      ]
    },
    {
      "cell_type": "markdown",
      "execution_count": null,
      "metadata": {},
      "outputs": [],
      "source": [
        "#Exercise 56: Mapping with a Logistic Transform"
      ]
    },
    {
      "cell_type": "code",
      "execution_count": null,
      "metadata": {},
      "outputs": [],
      "source": [
        "\n",
        "import math\n",
        "nums = [-3, -5, 1, 4]\n",
        "list(map(lambda x: 1 / (1 + math.exp(-x)), nums))"
      ]
    },
    {
      "cell_type": "markdown",
      "execution_count": null,
      "metadata": {},
      "outputs": [],
      "source": [
        "#Exercise 57: Using the Filter Lamda"
      ]
    },
    {
      "cell_type": "code",
      "execution_count": null,
      "metadata": {},
      "outputs": [],
      "source": [
        "nums = list(range(1000))\n",
        "filtered = filter(lambda x: x % 3 == 0 or x % 7 == 0, nums)\n",
        "print(sum(filtered))"
      ]
    },
    {
      "cell_type": "markdown",
      "execution_count": null,
      "metadata": {},
      "outputs": [],
      "source": [
        "#Soring with Lambda Functions"
      ]
    },
    {
      "cell_type": "code",
      "execution_count": null,
      "metadata": {},
      "outputs": [],
      "source": [
        "names = ['Ming', 'Jennifer', 'Andrew', 'Boris']\n",
        "sorted(names, key=lambda x : len(x))"
      ]
    },
    {
      "cell_type": "markdown",
      "execution_count": null,
      "metadata": {},
      "outputs": [],
      "source": [
        "#Exercise 58: Reading a Text file using Python"
      ]
    },
    {
      "cell_type": "code",
      "execution_count": null,
      "metadata": {},
      "outputs": [],
      "source": [
        "f = open('data/pg37431.txt')\n",
        "text = f.read()\n",
        "print(text)"
      ]
    },
    {
      "cell_type": "code",
      "execution_count": 77,
      "metadata": {},
      "outputs": [
        {
          "name": "stdout",
          "output_type": "stream",
          "text": "ï»¿The Project Gutenberg EBook of Pride and Prejudice, a play, by \nMary Keith Medbery Mackaye\n\nThis \n"
        }
      ],
      "source": [
        "with open('data/pg37431.txt') as f:\n",
        "    print(f.read(100))"
      ]
    },
    {
      "cell_type": "code",
      "execution_count": 79,
      "metadata": {},
      "outputs": [
        {
          "name": "stdout",
          "output_type": "stream",
          "text": "ï»¿The Project Gutenberg EBook of Pride and Prejudice, a play, by \n\n"
        }
      ],
      "source": [
        "with open('data/pg37431.txt') as f:\n",
        "    print(f.readline())"
      ]
    },
    {
      "cell_type": "markdown",
      "metadata": {},
      "source": [
        "#Exercise 60: Creating and Writing Content to Files to Record the Date and Time in a Text file"
      ]
    },
    {
      "cell_type": "code",
      "execution_count": 84,
      "metadata": {},
      "outputs": [
        {
          "name": "stdout",
          "output_type": "stream",
          "text": "2020.02.16_01:41:54 -  0\n2020.02.16_01:41:55 -  1\n2020.02.16_01:41:56 -  2\n2020.02.16_01:41:57 -  3\n2020.02.16_01:41:58 -  4\n2020.02.16_01:41:59 -  5\n2020.02.16_01:42:00 -  6\n2020.02.16_01:42:01 -  7\n2020.02.16_01:42:02 -  8\n2020.02.16_01:42:03 -  9\n"
        }
      ],
      "source": [
        "from datetime import datetime\n",
        "import time\n",
        "\n",
        "f = open('data/log.txt', 'w')\n",
        "for i in range(0,10):\n",
        "    print(datetime.now().strftime('%Y.%m.%d_%H:%M:%S - '), i)\n",
        "    f.write(datetime.now().strftime('%Y.%m.%d_%H:%M:%S - '))\n",
        "    time.sleep(1)\n",
        "    f.write(str(i))\n",
        "    f.write(\"\\n\")\n",
        "f.close()"
      ]
    },
    {
      "cell_type": "code",
      "execution_count": null,
      "metadata": {},
      "outputs": [],
      "source": []
    },
    {
      "cell_type": "code",
      "execution_count": null,
      "metadata": {},
      "outputs": [],
      "source": []
    },
    {
      "cell_type": "code",
      "execution_count": null,
      "metadata": {},
      "outputs": [],
      "source": []
    },
    {
      "cell_type": "code",
      "execution_count": null,
      "metadata": {},
      "outputs": [],
      "source": []
    },
    {
      "cell_type": "code",
      "execution_count": null,
      "metadata": {},
      "outputs": [],
      "source": []
    }
  ],
  "metadata": {
    "kernelspec": {
      "name": "python3",
      "display_name": "Python 3",
      "language": "python"
    },
    "language_info": {
      "mimetype": "text/x-python",
      "nbconvert_exporter": "python",
      "name": "python",
      "pygments_lexer": "ipython3",
      "version": "3.7.6-final",
      "file_extension": ".py",
      "codemirror_mode": {
        "version": 3,
        "name": "ipython"
      }
    }
  },
  "nbformat": 4,
  "nbformat_minor": 2
}
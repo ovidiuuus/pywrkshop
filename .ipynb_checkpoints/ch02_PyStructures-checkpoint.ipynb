{
  "cells": [
    {
      "metadata": {
        "trusted": true
      },
      "cell_type": "code",
      "source": "#Introduction\ntodo = [\"Pick up laundry\", \"buy Groceries\", \"pay electric bills\"]\ntodo",
      "execution_count": 1,
      "outputs": [
        {
          "output_type": "execute_result",
          "execution_count": 1,
          "data": {
            "text/plain": "['Pick up laundry', 'buy Groceries', 'pay electric bills']"
          },
          "metadata": {}
        }
      ]
    },
    {
      "metadata": {
        "trusted": true
      },
      "cell_type": "code",
      "source": "User = {\n    \"first_name\": \"Jack\",\n    \"last_name\": \"White\",\n    \"age\": 41,\n    \"email\": \"jack.white@gmail.com\"\n}",
      "execution_count": 5,
      "outputs": []
    },
    {
      "metadata": {
        "trusted": true
      },
      "cell_type": "code",
      "source": "#Exercise 21: Working with Python Lists\nshopping = [\"bread\", \"milk\", \"eggs\"]\nfor item in shopping:\n    print(item)",
      "execution_count": 7,
      "outputs": [
        {
          "output_type": "stream",
          "text": "bread\nmilk\neggs\n",
          "name": "stdout"
        }
      ]
    },
    {
      "metadata": {
        "trusted": true
      },
      "cell_type": "code",
      "source": "mixed = [365, \"days\", True]\nprint(mixed)",
      "execution_count": 8,
      "outputs": [
        {
          "output_type": "stream",
          "text": "[365, 'days', True]\n",
          "name": "stdout"
        }
      ]
    },
    {
      "metadata": {
        "trusted": true
      },
      "cell_type": "code",
      "source": "#Exercise 22: Using a Nested list to Store data from Matrix\nm = [[1, 2, 3], [4, 5, 6]]\nprint(m[1][1])",
      "execution_count": 9,
      "outputs": [
        {
          "output_type": "stream",
          "text": "5\n",
          "name": "stdout"
        }
      ]
    },
    {
      "metadata": {
        "trusted": true
      },
      "cell_type": "code",
      "source": "for i in range(len(m)):\n    for j in range(len(m[i])):\n        print(m[i][j])",
      "execution_count": 10,
      "outputs": [
        {
          "output_type": "stream",
          "text": "1\n2\n3\n4\n5\n6\n",
          "name": "stdout"
        }
      ]
    },
    {
      "metadata": {
        "trusted": true
      },
      "cell_type": "code",
      "source": "for i in m:\n    for j in i:\n        print(j)",
      "execution_count": 13,
      "outputs": [
        {
          "output_type": "stream",
          "text": "1\n2\n3\n4\n5\n6\n",
          "name": "stdout"
        }
      ]
    },
    {
      "metadata": {
        "trusted": true
      },
      "cell_type": "code",
      "source": "#Activity 6: Using a nested List to Store Employee Data\nemployees = [['John Mckee', 38, 'Sales'],\n             ['Lisa Crawford', 29, 'Marketing'],\n             ['Sujan Patel', 33, 'HR']]\nfor employee in employees:\n    print('Name:', employee[0])\n    print('Age:', employee[1])\n    print('Department:', employee[2])\n    print('-' * 20)",
      "execution_count": 15,
      "outputs": [
        {
          "output_type": "stream",
          "text": "Name: John Mckee\nAge: 38\nDepartment: Sales\n--------------------\nName: Lisa Crawford\nAge: 29\nDepartment: Marketing\n--------------------\nName: Sujan Patel\nAge: 33\nDepartment: HR\n--------------------\n",
          "name": "stdout"
        }
      ]
    },
    {
      "metadata": {
        "trusted": true
      },
      "cell_type": "code",
      "source": "employee = employees[1]\nprint(employee)\nprint('Name:', employee[0])\nprint('Age:', employee[1])\nprint('Department:', employee[2])\nprint('-' * 20)",
      "execution_count": 17,
      "outputs": [
        {
          "output_type": "stream",
          "text": "['Lisa Crawford', 29, 'Marketing']\nName: Lisa Crawford\nAge: 29\nDepartment: Marketing\n--------------------\n",
          "name": "stdout"
        }
      ]
    },
    {
      "metadata": {
        "trusted": true
      },
      "cell_type": "code",
      "source": "#Exercise 23 : Implementing Matrix Operations (Addition and Substraction)\nX = [[1, 2, 3],\n     [4, 5, 6],\n     [7, 8, 9]]\nY = [[10, 11, 12],\n     [13, 14, 15],\n     [16, 17, 18]]\n# Initiate a result placeholder\nresult = [[0, 0, 0],\n          [0, 0, 0],\n          [0, 0, 0]]\n#Iterate through rows\nfor i in range(len(X)):\n#Iterate through colums\n    for j in range(len(X[0])):\n        result[i][j] = X[i][j] + Y[i][j]\n        \nprint(result)",
      "execution_count": 3,
      "outputs": [
        {
          "output_type": "stream",
          "text": "[[11, 13, 15], [17, 19, 21], [23, 25, 27]]\n",
          "name": "stdout"
        }
      ]
    },
    {
      "metadata": {
        "trusted": true
      },
      "cell_type": "code",
      "source": "Y = [[1, 2, 3],\n     [4, 5, 6],\n     [7, 8, 9]]\nX = [[10, 11, 12],\n     [13, 14, 15],\n     [16, 17, 18]]\n# Initiate a result placeholder\nresult = [[0, 0, 0],\n          [0, 0, 0],\n          [0, 0, 0]]\n#Iterate through rows\nfor i in range(len(X)):\n#Iterate through colums\n    for j in range(len(X[0])):\n        result[i][j] = X[i][j] - Y[i][j]\n        \nprint(result)",
      "execution_count": 2,
      "outputs": [
        {
          "output_type": "stream",
          "text": "[[9, 9, 9], [9, 9, 9], [9, 9, 9]]\n",
          "name": "stdout"
        }
      ]
    },
    {
      "metadata": {
        "trusted": true
      },
      "cell_type": "code",
      "source": "#Exercise 24 : Implementing Matrix Operations (Multiplication)\nX = [[1, 2],\n     [4, 5],\n     [3, 6]]\nY = [[1, 2, 3, 4],\n     [5, 6, 7, 8]]\nresult = [[0, 0, 0, 0],\n          [0, 0, 0, 0],\n          [0, 0, 0, 0]]\n\n#iterating by row of X\nfor i in range(len(X)):\n    \n    #iterating by column of Y\n    for j in range(len(Y[0])):\n    \n        #iterate by rows of Y\n        for k in range(len(Y)):\n            result[i][j] += X[i][k] * Y[k][j]\n            \nfor r in result:\n    print(r)",
      "execution_count": 5,
      "outputs": [
        {
          "output_type": "stream",
          "text": "[11, 14, 17, 20]\n[29, 38, 47, 56]\n[33, 42, 51, 60]\n",
          "name": "stdout"
        }
      ]
    },
    {
      "metadata": {
        "trusted": true
      },
      "cell_type": "code",
      "source": "#Exercise 25 : Basic List Operations\nshopping = [\"bread\", \"milk\", \"eggs\"]\nprint(len(shopping))",
      "execution_count": 6,
      "outputs": [
        {
          "output_type": "stream",
          "text": "3\n",
          "name": "stdout"
        }
      ]
    },
    {
      "metadata": {
        "trusted": true
      },
      "cell_type": "code",
      "source": "list1 = [1, 2, 3]\nlist2 = [4, 5, 6]\nfinal_list = list1 + list2\nprint(final_list * 3)",
      "execution_count": 8,
      "outputs": [
        {
          "output_type": "stream",
          "text": "[1, 2, 3, 4, 5, 6, 1, 2, 3, 4, 5, 6, 1, 2, 3, 4, 5, 6]\n",
          "name": "stdout"
        }
      ]
    },
    {
      "metadata": {
        "trusted": true
      },
      "cell_type": "code",
      "source": "list3 = ['oi']\nprint(list3 * 3)",
      "execution_count": 9,
      "outputs": [
        {
          "output_type": "stream",
          "text": "['oi', 'oi', 'oi']\n",
          "name": "stdout"
        }
      ]
    },
    {
      "metadata": {
        "trusted": true
      },
      "cell_type": "code",
      "source": "print(shopping[1])",
      "execution_count": 10,
      "outputs": [
        {
          "output_type": "stream",
          "text": "milk\n",
          "name": "stdout"
        }
      ]
    },
    {
      "metadata": {
        "trusted": true
      },
      "cell_type": "code",
      "source": "shopping[1] = \"banana\"\nprint(shopping)",
      "execution_count": 11,
      "outputs": [
        {
          "output_type": "stream",
          "text": "['bread', 'banana', 'eggs']\n",
          "name": "stdout"
        }
      ]
    },
    {
      "metadata": {
        "trusted": true
      },
      "cell_type": "code",
      "source": "print(shopping[:2])",
      "execution_count": 12,
      "outputs": [
        {
          "output_type": "stream",
          "text": "['bread', 'banana']\n",
          "name": "stdout"
        }
      ]
    },
    {
      "metadata": {
        "trusted": true
      },
      "cell_type": "code",
      "source": "#Exercise 27 : Adding Items to List\nshopping.append(\"apple\")\nprint(shopping)",
      "execution_count": 13,
      "outputs": [
        {
          "output_type": "stream",
          "text": "['bread', 'banana', 'eggs', 'apple']\n",
          "name": "stdout"
        }
      ]
    },
    {
      "metadata": {
        "trusted": true
      },
      "cell_type": "code",
      "source": "shopping.insert(2, \"ham\")\nprint(shopping)",
      "execution_count": 14,
      "outputs": [
        {
          "output_type": "stream",
          "text": "['bread', 'banana', 'ham', 'eggs', 'apple']\n",
          "name": "stdout"
        }
      ]
    },
    {
      "metadata": {
        "trusted": true
      },
      "cell_type": "code",
      "source": "employee = {\n  'name': \"Jack Nelson\",\n  'age': 32,\n  'department': \"sales\"\n}\nprint(employee)",
      "execution_count": 15,
      "outputs": [
        {
          "output_type": "stream",
          "text": "{'name': 'Jack Nelson', 'age': 32, 'department': 'sales'}\n",
          "name": "stdout"
        }
      ]
    },
    {
      "metadata": {
        "trusted": true
      },
      "cell_type": "code",
      "source": "#Exercise 28 : Using a Dictionary to Store a Movie Record\nmovie = {\n  \"title\": \"The Godfather\",\n  \"director\": \"Francis Ford Coppola\",\n  \"year\": 1972,\n  \"rating\": 9.2\n}\nprint(movie['year'])",
      "execution_count": 16,
      "outputs": [
        {
          "output_type": "stream",
          "text": "1972\n",
          "name": "stdout"
        }
      ]
    },
    {
      "metadata": {
        "trusted": true
      },
      "cell_type": "code",
      "source": "movie['rating'] = (movie['rating'] + 9.3) / 2\nprint(movie['rating'])",
      "execution_count": 17,
      "outputs": [
        {
          "output_type": "stream",
          "text": "9.25\n",
          "name": "stdout"
        }
      ]
    },
    {
      "metadata": {
        "trusted": true
      },
      "cell_type": "code",
      "source": "movie = {}\nmovie['title'] = 'The Godfather'\nmovie['director'] = 'Francis Ford Coppola'\nmovie['year'] = 1972\nmovie['rating'] = 9.2\nmovie['actors'] = ['Marlon Brando', 'Al Pacino', 'James Caan']\nmovie['other_details'] = {\n    'runtime' : 175,\n    'language': 'English'\n}\n\nfor r in movie:\n    print(r)",
      "execution_count": 19,
      "outputs": [
        {
          "output_type": "stream",
          "text": "title\ndirector\nyear\nrating\nactors\nother_details\n",
          "name": "stdout"
        }
      ]
    },
    {
      "metadata": {
        "trusted": true
      },
      "cell_type": "code",
      "source": "# Dictionary keys and values\nemployee = {\n    'name': 'Jack Nelson',\n    'age': 32,\n    'department': \"sales\"\n}\nprint(employee)",
      "execution_count": 1,
      "outputs": [
        {
          "output_type": "stream",
          "text": "{'name': 'Jack Nelson', 'age': 32, 'department': 'sales'}\n",
          "name": "stdout"
        }
      ]
    },
    {
      "metadata": {
        "trusted": true
      },
      "cell_type": "markdown",
      "source": "#Exercise 28 : Using a Dictionary to Store a Movie Record"
    },
    {
      "metadata": {
        "trusted": true
      },
      "cell_type": "code",
      "source": "#Exercise 28 : Using a Dictionary to Store a Movie Record\nmovie = {\n    \"title\" : \"The Godfather\",\n    \"director\" : \"Francis Ford Coppola\",\n    \"year\" : 1972,\n    \"rating\" : 9.2\n}\nprint(movie[\"year\"])",
      "execution_count": 4,
      "outputs": [
        {
          "output_type": "stream",
          "text": "1972\n",
          "name": "stdout"
        }
      ]
    },
    {
      "metadata": {
        "trusted": true
      },
      "cell_type": "code",
      "source": "movie['rating'] = (movie['rating'] + 9.3) / 2\nprint(movie['rating'])",
      "execution_count": 5,
      "outputs": [
        {
          "output_type": "stream",
          "text": "9.25\n",
          "name": "stdout"
        }
      ]
    },
    {
      "metadata": {
        "trusted": true
      },
      "cell_type": "code",
      "source": "mv = {}\nmv['title'] = \"The Godfather\"\nmv['director'] = \"Francis Coppola\"\nmv['year'] = 1972\nmv['rating'] = 9.2\nmv['actors'] = ['Marlon Brando', 'Al Pacino', 'James Caan']\nmv['other_details'] = {\n    'runtime' : 175,\n    'language' : 'English'\n}\nprint(mv)",
      "execution_count": 6,
      "outputs": [
        {
          "output_type": "stream",
          "text": "{'title': 'The Godfather', 'director': 'Francis Coppola', 'year': 1972, 'rating': 9.2, 'actors': ['Marlon Brando', 'Al Pacino', 'James Caan'], 'other_details': {'runtime': 175, 'language': 'English'}}\n",
          "name": "stdout"
        }
      ]
    },
    {
      "metadata": {
        "trusted": true
      },
      "cell_type": "code",
      "source": "#Activity 7 : Storing company Employee Table Data Using a List and a Dictionary\nemployees = [{\n    'Name' : 'John Mckee',\n    'Age' : 38,\n    'Department' : 'Sales'\n},\n    {\n    'Name' : 'Lisa Crawford',\n    'Age' : 29,\n    'Department' : 'Marketing'\n},\n{\n    'Name' : 'Sujan Patel',\n    'Age' : 33,\n    'Department' : 'HR'\n}\n]\n\nfor emp in employees :\n    print('Name: ', emp['Name'])\n    print('Age : ', emp['Age'])\n    print('Department : ', emp['Department'])\n    print('------------------------')\n    \n\nfor emp in employees :\n    if emp['Name'] == 'Sujan Patel':\n        print('Name: ', emp['Name'])\n        print('Age : ', emp['Age'])\n        print('Department : ', emp['Department'])\n        print('------------------------')\n",
      "execution_count": 10,
      "outputs": [
        {
          "output_type": "stream",
          "text": "Name:  John Mckee\nAge :  38\nDepartment :  Sales\n------------------------\nName:  Lisa Crawford\nAge :  29\nDepartment :  Marketing\n------------------------\nName:  Sujan Patel\nAge :  33\nDepartment :  HR\n------------------------\nName:  Sujan Patel\nAge :  33\nDepartment :  HR\n------------------------\n",
          "name": "stdout"
        }
      ]
    },
    {
      "metadata": {
        "trusted": true
      },
      "cell_type": "code",
      "source": "#Exercise 29: Using the zip method to manipulate Dictionaries\nitems = ['apple', 'orange', 'banana']\nquantity = [5, 3, 2]\norders = zip(items, quantity)\n#print(list(orders))\n\n#orders_list = list(orders)\n#print(orders_list)\norders_tuples = tuple(orders)\nprint(orders_tuples)\n#orders_dict = dict(orders)\n#print(orders_dict)\n\n",
      "execution_count": 18,
      "outputs": [
        {
          "output_type": "stream",
          "text": "(('apple', 5), ('orange', 3), ('banana', 2))\n",
          "name": "stdout"
        }
      ]
    },
    {
      "metadata": {
        "trusted": true
      },
      "cell_type": "code",
      "source": "#Exercise 30 : Accessing a Dictionary Using Dict Methods\norders = {'apple' : 5, 'orange' : 3, 'banana' : 2}\nprint(orders.values())\nprint(list(orders.values()))\nprint(list(orders.keys()))",
      "execution_count": 21,
      "outputs": [
        {
          "output_type": "stream",
          "text": "dict_values([5, 3, 2])\n[5, 3, 2]\n['apple', 'orange', 'banana']\n",
          "name": "stdout"
        }
      ]
    },
    {
      "metadata": {
        "trusted": true
      },
      "cell_type": "code",
      "source": "for tuple in list(orders.items()):\n    print(tuple)",
      "execution_count": 22,
      "outputs": [
        {
          "output_type": "stream",
          "text": "('apple', 5)\n('orange', 3)\n('banana', 2)\n",
          "name": "stdout"
        }
      ]
    },
    {
      "metadata": {
        "trusted": true
      },
      "cell_type": "code",
      "source": "#Tuple\nweekdays_tuple = ('Monday', 'Tuesday', 'Wednesday', 'Thursday', 'Friday', 'Saturday', 'Sunday')\nprint(weekdays_tuple)",
      "execution_count": 23,
      "outputs": [
        {
          "output_type": "stream",
          "text": "('Monday', 'Tuesday', 'Wednesday', 'Thursday', 'Friday', 'Saturday', 'Sunday')\n",
          "name": "stdout"
        }
      ]
    },
    {
      "metadata": {
        "trusted": true
      },
      "cell_type": "code",
      "source": "#Exercise 31 : Exploring Tuple Properties in Our Shopping List\nt = ('bread', 'milk', 'eggs')\nprint(len(t))",
      "execution_count": 2,
      "outputs": [
        {
          "output_type": "stream",
          "text": "3\n",
          "name": "stdout"
        }
      ]
    },
    {
      "metadata": {
        "trusted": true
      },
      "cell_type": "code",
      "source": "#new_t = t + ('apple', 'orange')\nprint(t + ('apple', 'orange'))\nprint(t)",
      "execution_count": 7,
      "outputs": [
        {
          "output_type": "stream",
          "text": "('bread', 'milk', 'eggs', 'apple', 'orange')\n('bread', 'milk', 'eggs')\n",
          "name": "stdout"
        }
      ]
    },
    {
      "metadata": {
        "trusted": true
      },
      "cell_type": "code",
      "source": "t_mixed = 'apple', True, 3\nprint(t_mixed)\nt_shopping = ('apple', 3), ('orange', 2), ('banana', 5)\nprint(t_shopping)\nprint(t_shopping[0][0])",
      "execution_count": 11,
      "outputs": [
        {
          "output_type": "stream",
          "text": "('apple', True, 3)\n(('apple', 3), ('orange', 2), ('banana', 5))\napple\n",
          "name": "stdout"
        }
      ]
    },
    {
      "metadata": {
        "trusted": true
      },
      "cell_type": "code",
      "source": "#Using Sets in Python\ns1 = set([1,2,3,4,5,6])\nprint(s1)\ns2 = set([1,2,2,3,4,4,5,6,6])\nprint(s2)\ns3 = set([3,4,5,6,6,6,1,1,2])\nprint(s3)",
      "execution_count": 15,
      "outputs": [
        {
          "output_type": "stream",
          "text": "{1, 2, 3, 4, 5, 6}\n{1, 2, 3, 4, 5, 6}\n{1, 2, 3, 4, 5, 6}\n",
          "name": "stdout"
        }
      ]
    },
    {
      "metadata": {
        "trusted": true
      },
      "cell_type": "code",
      "source": "s4 = {\"apple\", \"orange\", \"banana\"}\nprint(s4)",
      "execution_count": 16,
      "outputs": [
        {
          "output_type": "stream",
          "text": "{'banana', 'orange', 'apple'}\n",
          "name": "stdout"
        }
      ]
    },
    {
      "metadata": {
        "trusted": true
      },
      "cell_type": "code",
      "source": "s4.add('pineapple')\nprint(s4)",
      "execution_count": 23,
      "outputs": [
        {
          "output_type": "stream",
          "text": "{'banana', 'orange', 'pineapple', 'apple'}\n",
          "name": "stdout"
        }
      ]
    },
    {
      "metadata": {
        "trusted": true
      },
      "cell_type": "code",
      "source": "if 'pineapple' > 'banana':\n    print('Yes')\nprint('No')\n    ",
      "execution_count": 25,
      "outputs": [
        {
          "output_type": "stream",
          "text": "Yes\nNo\n",
          "name": "stdout"
        }
      ]
    },
    {
      "metadata": {
        "trusted": true
      },
      "cell_type": "code",
      "source": "s5 = {1,2,3,4}\ns6 = {3,4,5,6}\nprint(s5 | s6)\nprint(s5.union(s6))",
      "execution_count": 27,
      "outputs": [
        {
          "output_type": "stream",
          "text": "{1, 2, 3, 4, 5, 6}\n{1, 2, 3, 4, 5, 6}\n",
          "name": "stdout"
        }
      ]
    },
    {
      "metadata": {
        "trusted": true
      },
      "cell_type": "code",
      "source": "print(s5 & s6)\nprint(s5.intersection(s6))",
      "execution_count": 28,
      "outputs": [
        {
          "output_type": "stream",
          "text": "{3, 4}\n{3, 4}\n",
          "name": "stdout"
        }
      ]
    },
    {
      "metadata": {
        "trusted": true
      },
      "cell_type": "code",
      "source": "print(s5 - s6)\nprint(s5.difference(s6))",
      "execution_count": 29,
      "outputs": [
        {
          "output_type": "stream",
          "text": "{1, 2}\n{1, 2}\n",
          "name": "stdout"
        }
      ]
    },
    {
      "metadata": {
        "trusted": true
      },
      "cell_type": "code",
      "source": "print(s5 <= s6)\nprint(s5.issubset(s6))\ns7 = {1,2,3}\ns8 = {1,2,3,4,5}\nprint(s7 <= s8)\nprint(s7.issubset(s8))",
      "execution_count": 30,
      "outputs": [
        {
          "output_type": "stream",
          "text": "False\nFalse\nTrue\nTrue\n",
          "name": "stdout"
        }
      ]
    },
    {
      "metadata": {
        "trusted": true
      },
      "cell_type": "code",
      "source": "print(s7 < s8)",
      "execution_count": 31,
      "outputs": [
        {
          "output_type": "stream",
          "text": "True\n",
          "name": "stdout"
        }
      ]
    },
    {
      "metadata": {
        "trusted": true
      },
      "cell_type": "code",
      "source": "s9 = {1,2,3}\ns10 = {1,2,3}\nprint(s9 < s10)\nprint(s9 < s9)",
      "execution_count": 32,
      "outputs": [
        {
          "output_type": "stream",
          "text": "False\nFalse\n",
          "name": "stdout"
        }
      ]
    },
    {
      "metadata": {
        "trusted": true
      },
      "cell_type": "code",
      "source": "print(s8 >= s7)\nprint(s8.issuperset(s7))\nprint(s8 > s7)\nprint(s8 > s8)",
      "execution_count": 33,
      "outputs": [
        {
          "output_type": "stream",
          "text": "True\nTrue\nTrue\nFalse\n",
          "name": "stdout"
        }
      ]
    },
    {
      "metadata": {
        "trusted": true
      },
      "cell_type": "code",
      "source": "",
      "execution_count": null,
      "outputs": []
    }
  ],
  "metadata": {
    "kernelspec": {
      "name": "python36",
      "display_name": "Python 3.6",
      "language": "python"
    },
    "language_info": {
      "mimetype": "text/x-python",
      "nbconvert_exporter": "python",
      "name": "python",
      "pygments_lexer": "ipython3",
      "version": "3.6.6",
      "file_extension": ".py",
      "codemirror_mode": {
        "version": 3,
        "name": "ipython"
      }
    }
  },
  "nbformat": 4,
  "nbformat_minor": 2
}
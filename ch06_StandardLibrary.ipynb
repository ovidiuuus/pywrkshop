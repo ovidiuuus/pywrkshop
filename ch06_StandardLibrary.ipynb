{
  "cells": [
    {
      "metadata": {},
      "cell_type": "markdown",
      "source": "# Chapter 6 - The Standard Library"
    },
    {
      "metadata": {
        "trusted": true
      },
      "cell_type": "code",
      "source": "#High Level Modules\n\nfrom turtle import Turtle, done\nt = Turtle()\nt.right(180)\nt.forward(100)\nt.right(90)\nt.forward(50)\ndone()",
      "execution_count": null,
      "outputs": []
    },
    {
      "metadata": {
        "trusted": true
      },
      "cell_type": "code",
      "source": "",
      "execution_count": null,
      "outputs": []
    }
  ],
  "metadata": {
    "kernelspec": {
      "name": "python2",
      "display_name": "Python 2",
      "language": "python"
    },
    "language_info": {
      "mimetype": "text/x-python",
      "nbconvert_exporter": "python",
      "name": "python",
      "pygments_lexer": "ipython2",
      "version": "2.7.15",
      "file_extension": ".py",
      "codemirror_mode": {
        "version": 2,
        "name": "ipython"
      }
    }
  },
  "nbformat": 4,
  "nbformat_minor": 1
}
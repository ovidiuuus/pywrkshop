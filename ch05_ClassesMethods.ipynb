{
  "cells": [
    {
      "metadata": {
        "trusted": true
      },
      "cell_type": "code",
      "source": "print(\"chapter 5\")",
      "execution_count": null,
      "outputs": []
    },
    {
      "metadata": {
        "trusted": true
      },
      "cell_type": "code",
      "source": "x = 100\nx",
      "execution_count": null,
      "outputs": []
    },
    {
      "metadata": {
        "trusted": true
      },
      "cell_type": "code",
      "source": "type(x)",
      "execution_count": null,
      "outputs": []
    },
    {
      "metadata": {
        "trusted": true
      },
      "cell_type": "code",
      "source": "x.bit_length()",
      "execution_count": null,
      "outputs": []
    },
    {
      "metadata": {
        "trusted": true
      },
      "cell_type": "code",
      "source": "print(x.__doc__)",
      "execution_count": null,
      "outputs": []
    },
    {
      "metadata": {},
      "cell_type": "markdown",
      "source": "#Exercise 70: Exploring Strings"
    },
    {
      "metadata": {
        "trusted": true
      },
      "cell_type": "code",
      "source": "my_str = 'hello world!'\ntype(my_str)",
      "execution_count": null,
      "outputs": []
    },
    {
      "metadata": {
        "trusted": true
      },
      "cell_type": "code",
      "source": "print(my_str.__doc__)",
      "execution_count": null,
      "outputs": []
    },
    {
      "metadata": {
        "trusted": true
      },
      "cell_type": "code",
      "source": "my_str.__dir__()",
      "execution_count": null,
      "outputs": []
    },
    {
      "metadata": {
        "trusted": true
      },
      "cell_type": "code",
      "source": "my_str.capitalize()",
      "execution_count": null,
      "outputs": []
    },
    {
      "metadata": {
        "trusted": true
      },
      "cell_type": "code",
      "source": "my_str.upper()",
      "execution_count": null,
      "outputs": []
    },
    {
      "metadata": {
        "trusted": true
      },
      "cell_type": "code",
      "source": "my_str.replace(' ', '')",
      "execution_count": null,
      "outputs": []
    },
    {
      "metadata": {
        "trusted": true
      },
      "cell_type": "code",
      "source": "class Australian():\n    is_human = True\n    enjoys_sport = True\n    \njohn = Australian()\ntype(john)",
      "execution_count": 1,
      "outputs": [
        {
          "output_type": "execute_result",
          "execution_count": 1,
          "data": {
            "text/plain": "__main__.Australian"
          },
          "metadata": {}
        }
      ]
    },
    {
      "metadata": {
        "trusted": true
      },
      "cell_type": "code",
      "source": "john.is_human",
      "execution_count": 2,
      "outputs": [
        {
          "output_type": "execute_result",
          "execution_count": 2,
          "data": {
            "text/plain": "True"
          },
          "metadata": {}
        }
      ]
    },
    {
      "metadata": {
        "trusted": true
      },
      "cell_type": "code",
      "source": "john.enjoys_sport",
      "execution_count": 3,
      "outputs": [
        {
          "output_type": "execute_result",
          "execution_count": 3,
          "data": {
            "text/plain": "True"
          },
          "metadata": {}
        }
      ]
    },
    {
      "metadata": {
        "trusted": true
      },
      "cell_type": "code",
      "source": "ming = Australian()",
      "execution_count": null,
      "outputs": []
    },
    {
      "metadata": {},
      "cell_type": "markdown",
      "source": "# Exercise 71: Creating a Pet class"
    },
    {
      "metadata": {
        "trusted": true
      },
      "cell_type": "code",
      "source": "class Pet():\n    \"\"\"\n    A class to capture useful information regarding my pets, just incase \n    I lose track of them.\n    \"\"\"\n    def __init__(self, height):\n        self.height = height\n    \n    is_human = False\n    owner = 'Michael Smith'\n    \nchubbles = Pet(height=5)\nchubbles.is_human",
      "execution_count": 9,
      "outputs": [
        {
          "output_type": "execute_result",
          "execution_count": 9,
          "data": {
            "text/plain": "False"
          },
          "metadata": {}
        }
      ]
    },
    {
      "metadata": {
        "trusted": true
      },
      "cell_type": "code",
      "source": "chubbles.owner\nprint(chubbles.__doc__)\nchubbles.height",
      "execution_count": 10,
      "outputs": [
        {
          "output_type": "stream",
          "text": "\n    A class to capture useful information regarding my pets, just incase \n    I lose track of them.\n    \n",
          "name": "stdout"
        },
        {
          "output_type": "execute_result",
          "execution_count": 10,
          "data": {
            "text/plain": "5"
          },
          "metadata": {}
        }
      ]
    },
    {
      "metadata": {},
      "cell_type": "markdown",
      "source": "## Exercise 72: Creating a Circle class"
    },
    {
      "metadata": {
        "trusted": true
      },
      "cell_type": "code",
      "source": "class Circle():\n    is_shape = True\n    \n    def __init__(self, radius, color='green'):\n        self.radius = radius\n        self.color = color\n        \nfirst_circle = Circle(2, 'blue')\nsecond_circle = Circle(3, 'red')\nthird_circle = Circle(23)\n\nprint(first_circle.color)\nprint(second_circle.color)\nprint(first_circle.is_shape)\nprint(second_circle.is_shape)\nprint(third_circle.color)",
      "execution_count": 16,
      "outputs": [
        {
          "output_type": "stream",
          "text": "blue\nred\nTrue\nTrue\ngreen\n",
          "name": "stdout"
        }
      ]
    },
    {
      "metadata": {},
      "cell_type": "markdown",
      "source": "## Exercise 73: The Country Class with Keyword Arguments"
    },
    {
      "metadata": {
        "trusted": true
      },
      "cell_type": "code",
      "source": "class Country():\n    def __init__(self, name='Unspecified', population=None, size_kmsq=None):\n        self.name = name\n        self.population = population\n        self.size_kmsq = size_kmsq\n        \nusa = Country(name = 'United States of America', size_kmsq = 9.8e6)\nusa.__dict__",
      "execution_count": 17,
      "outputs": [
        {
          "output_type": "execute_result",
          "execution_count": 17,
          "data": {
            "text/plain": "{'name': 'United States of America',\n 'population': None,\n 'size_kmsq': 9800000.0}"
          },
          "metadata": {}
        }
      ]
    },
    {
      "metadata": {
        "trusted": true
      },
      "cell_type": "code",
      "source": "import math\nclass NCircle():\n    is_shape = True\n    \n    def __init__(self, radius, color = 'red'):\n        self.radius = radius\n        self.color = color\n        \n    def area(self):\n        return math.pi * self.radius ** 2\n    \nforth_circle = NCircle(3)\nforth_circle.area()",
      "execution_count": 18,
      "outputs": [
        {
          "output_type": "execute_result",
          "execution_count": 18,
          "data": {
            "text/plain": "28.274333882308138"
          },
          "metadata": {}
        }
      ]
    },
    {
      "metadata": {
        "trusted": true
      },
      "cell_type": "code",
      "source": "forth_circle.radius = 4\nforth_circle.area()",
      "execution_count": 19,
      "outputs": [
        {
          "output_type": "execute_result",
          "execution_count": 19,
          "data": {
            "text/plain": "50.26548245743669"
          },
          "metadata": {}
        }
      ]
    },
    {
      "metadata": {},
      "cell_type": "markdown",
      "source": "## Exercise 74: Adding an Instance Method to our Pet Class"
    },
    {
      "metadata": {
        "trusted": true
      },
      "cell_type": "code",
      "source": "class Pet():\n    \"\"\"\n    A class to capture useful information regarding my pets, just incase \n    I lose track of them.\n    \"\"\"\n    def __init__(self, height, name = None):\n        self.height = height\n        self.name = name\n    \n    is_human = False\n    owner = 'Michael Smith'\n    \n    def is_tall(self):\n        return self.height >= 50\n    \n    def is_tall_at_least(self, tall_if_at_least):\n        return self.height >= tall_if_at_least\n\n    def __str__(self):\n        return '%s (height: %s cm)' % (self.name, self.height)\n    \n    @staticmethod\n    def owned_by_smith_family():\n        return 'Smith' in Pet.owner\n        \nbowser = Pet(40)\nbowser.height = 60\n#bowser.is_tall()\nbowser.is_tall_at_least(70)",
      "execution_count": 50,
      "outputs": [
        {
          "output_type": "execute_result",
          "execution_count": 50,
          "data": {
            "text/plain": "False"
          },
          "metadata": {}
        }
      ]
    },
    {
      "metadata": {},
      "cell_type": "markdown",
      "source": "## Exercise 75: Computing the Size of Our Country"
    },
    {
      "metadata": {
        "trusted": true
      },
      "cell_type": "code",
      "source": "class Country():\n    def __init__(self, name = 'Unspecified', population = None, size_kmsq = None):\n        self.name = name\n        self.population = population\n        self.size_kmsq = size_kmsq\n        \n    def size_miles_sq(self, conversion_rate=0.621371):\n        return self.size_kmsq * (conversion_rate ** 2)\n\n    def __str__(self):\n        label = self.name\n        if self.population:\n            label = '%s, population: %s' % (label, self.population)\n        if self.size_kmsq:\n            label = '%s, size_kmsq: %s' % (label, self.size_kmsq)\n        return label\n\n    @classmethod\n    def create_with_msq(cls, name, population, size_msq):\n        size_kmsq = size_msq / (0.621371 ** 2)\n        return cls(name, population, size_kmsq)\n    \nalgeria = Country(name = 'Algeria', size_kmsq=2.382e6)\nalgeria.size_miles_sq(conversion_rate=0.6)",
      "execution_count": 7,
      "outputs": [
        {
          "output_type": "execute_result",
          "execution_count": 7,
          "data": {
            "text/plain": "857520.0"
          },
          "metadata": {}
        }
      ]
    },
    {
      "metadata": {
        "trusted": true
      },
      "cell_type": "code",
      "source": "my_pet = Pet(30, name='Chubster')\nprint(my_pet)",
      "execution_count": 34,
      "outputs": [
        {
          "output_type": "stream",
          "text": "Chubster (height: 30 cm)\n",
          "name": "stdout"
        }
      ]
    },
    {
      "metadata": {},
      "cell_type": "markdown",
      "source": "## Exercise 76: Adding an __str__ method to the Country Class"
    },
    {
      "metadata": {
        "trusted": true
      },
      "cell_type": "code",
      "source": "chad = Country(name = 'Chad', population=100, size_kmsq=9.5e4)\nchad.population = 200\nprint(chad)",
      "execution_count": 48,
      "outputs": [
        {
          "output_type": "stream",
          "text": "Chad, population: 200, size_kmsq: 95000.0\n",
          "name": "stdout"
        }
      ]
    },
    {
      "metadata": {
        "trusted": true
      },
      "cell_type": "code",
      "source": "nibbles = Pet(100)\n#nibbles.owned_by_smith_family()\n\ndog = Pet(50)\ndog.owner = 'Ovidiu Danciu'\ndog.owned_by_smith_family()\nprint(dog)",
      "execution_count": 54,
      "outputs": [
        {
          "output_type": "stream",
          "text": "None (height: 50 cm)\n",
          "name": "stdout"
        }
      ]
    },
    {
      "metadata": {},
      "cell_type": "markdown",
      "source": "## Exercise 77: Refectoring Instance Methods Using a Static Method"
    },
    {
      "metadata": {
        "trusted": true
      },
      "cell_type": "code",
      "source": "import datetime\nclass Diary():\n    def __init__(self, birthday, christmas):\n        self.birthday = birthday\n        self.christmas = christmas\n        \n    @staticmethod\n    def format_date(date):\n        return date.strftime('%d-%b-%y')\n    \n    def show_birthday(self):\n        return self.format_date(self.birthday)\n    def show_christmas(self):\n        return self.format_date(self.christmas)\n    \nmy_diary = Diary(datetime.date(2020, 5, 14), datetime.date(2020, 12, 25))\nmy_diary.show_birthday()",
      "execution_count": 4,
      "outputs": [
        {
          "output_type": "execute_result",
          "execution_count": 4,
          "data": {
            "text/plain": "'14-May-20'"
          },
          "metadata": {}
        }
      ]
    },
    {
      "metadata": {
        "trusted": true
      },
      "cell_type": "code",
      "source": "#Class methods\nclass Australian():\n    is_human = True\n    enjoys_sport = True\n    \n    @classmethod\n    def is_sporty_human(cls):\n        return cls.is_human and cls.enjoys_sport\n\naussie = Australian()\naussie.is_sporty_human()",
      "execution_count": 6,
      "outputs": [
        {
          "output_type": "execute_result",
          "execution_count": 6,
          "data": {
            "text/plain": "True"
          },
          "metadata": {}
        }
      ]
    },
    {
      "metadata": {
        "trusted": true
      },
      "cell_type": "code",
      "source": "mexico = Country.create_with_msq('Mexico', 150e6, 760000)\nmexico.size_kmsq",
      "execution_count": 8,
      "outputs": [
        {
          "output_type": "execute_result",
          "execution_count": 8,
          "data": {
            "text/plain": "1968392.1818017708"
          },
          "metadata": {}
        }
      ]
    },
    {
      "metadata": {},
      "cell_type": "markdown",
      "source": "## Exercise 78: Extending Our Pet class with Class Methods"
    },
    {
      "metadata": {
        "trusted": true
      },
      "cell_type": "code",
      "source": "import random\n\nclass Pet():\n    is_human = False\n    owner = 'Michael Smith'\n\n    def __init__(self, height):\n        self.height = height\n    \n    @classmethod\n    def owned_by_smith_family(cls):\n        return 'Smith' in cls.owner\n    \n    @classmethod\n    def create_random_height_pet(cls):\n        height = random.randrange(0, 100)\n        return cls(height)\n    \nfor i in range(5):\n    pet = Pet.create_random_height_pet()\n    print(pet.height)",
      "execution_count": 9,
      "outputs": [
        {
          "output_type": "stream",
          "text": "24\n61\n39\n59\n89\n",
          "name": "stdout"
        }
      ]
    },
    {
      "metadata": {
        "trusted": true
      },
      "cell_type": "code",
      "source": "#Property Decorater\n\nclass Temperature():\n    def __init__(self, celsius):\n        self.celsius = celsius\n    \n    def fahrenheit(self):\n        return self.celsius * 9 / 5 + 32\n    \nmy_temp = Temperature(0)\nprint(my_temp.fahrenheit())\nmy_temp.celsius = -10\nprint(my_temp.fahrenheit())",
      "execution_count": 3,
      "outputs": [
        {
          "output_type": "stream",
          "text": "32.0\n14.0\n",
          "name": "stdout"
        }
      ]
    },
    {
      "metadata": {
        "trusted": true
      },
      "cell_type": "code",
      "source": "#Property Decorater\n\nclass Temperature():\n    def __init__(self, celsius):\n        self.celsius = celsius\n    \n    @property\n    def fahrenheit(self):\n        return self.celsius * 9 / 5 + 32\n\nfreezing = Temperature(100)\nfreezing.fahrenheit",
      "execution_count": 4,
      "outputs": [
        {
          "output_type": "execute_result",
          "execution_count": 4,
          "data": {
            "text/plain": "212.0"
          },
          "metadata": {}
        }
      ]
    },
    {
      "metadata": {},
      "cell_type": "markdown",
      "source": "## Exercise 79: The Full Name Property"
    },
    {
      "metadata": {
        "trusted": true
      },
      "cell_type": "code",
      "source": "class Person():\n    def __init__(self, first_name, last_name):\n        self.first_name = first_name\n        self.last_name = last_name\n        \n    @property\n    def full_name(self):\n        return '%s %s' % (self.first_name, self.last_name)\n    \n    @full_name.setter\n    def full_name(self, name):\n        first, last = name.split(' ')\n        self.first_name = first\n        self.last_name = last\n    \ncustomer = Person('Mary', 'Lou')\nprint(customer.full_name)\ncustomer.full_name = 'Mary Smith'\ncustomer.full_name",
      "execution_count": 6,
      "outputs": [
        {
          "output_type": "stream",
          "text": "Mary Lou\n",
          "name": "stdout"
        },
        {
          "output_type": "execute_result",
          "execution_count": 6,
          "data": {
            "text/plain": "'Mary Smith'"
          },
          "metadata": {}
        }
      ]
    },
    {
      "metadata": {},
      "cell_type": "markdown",
      "source": "## Exercise 80:Writing a Setter Method"
    },
    {
      "metadata": {
        "trusted": true
      },
      "cell_type": "code",
      "source": "class Temperature():\n    def __init__(self, celsius):\n        self.celsius = celsius\n    \n    @property\n    def fahrenheit(self):\n        return self.celsius * 9 / 5 + 32\n\n    @fahrenheit.setter\n    def fahrenheit(self, temp):\n        if temp < -460:\n            raise ValueError('Temperatures less then -460F are not possible')\n        self.celsius = (temp - 32) * 5 / 9\n        \nmtemp = Temperature(5)\nmtemp.fahrenheit = -500\nmtemp.celsius",
      "execution_count": 1,
      "outputs": [
        {
          "output_type": "error",
          "ename": "ValueError",
          "evalue": "Temperatures less then -460F are not possible",
          "traceback": [
            "\u001b[0;31m---------------------------------------------------------------------------\u001b[0m",
            "\u001b[0;31mValueError\u001b[0m                                Traceback (most recent call last)",
            "\u001b[0;32m<ipython-input-1-f59f2d819d76>\u001b[0m in \u001b[0;36m<module>\u001b[0;34m\u001b[0m\n\u001b[1;32m     14\u001b[0m \u001b[0;34m\u001b[0m\u001b[0m\n\u001b[1;32m     15\u001b[0m \u001b[0mmtemp\u001b[0m \u001b[0;34m=\u001b[0m \u001b[0mTemperature\u001b[0m\u001b[0;34m(\u001b[0m\u001b[0;36m5\u001b[0m\u001b[0;34m)\u001b[0m\u001b[0;34m\u001b[0m\u001b[0m\n\u001b[0;32m---> 16\u001b[0;31m \u001b[0mmtemp\u001b[0m\u001b[0;34m.\u001b[0m\u001b[0mfahrenheit\u001b[0m \u001b[0;34m=\u001b[0m \u001b[0;34m-\u001b[0m\u001b[0;36m500\u001b[0m\u001b[0;34m\u001b[0m\u001b[0m\n\u001b[0m\u001b[1;32m     17\u001b[0m \u001b[0mmtemp\u001b[0m\u001b[0;34m.\u001b[0m\u001b[0mcelsius\u001b[0m\u001b[0;34m\u001b[0m\u001b[0m\n",
            "\u001b[0;32m<ipython-input-1-f59f2d819d76>\u001b[0m in \u001b[0;36mfahrenheit\u001b[0;34m(self, temp)\u001b[0m\n\u001b[1;32m     10\u001b[0m     \u001b[0;32mdef\u001b[0m \u001b[0mfahrenheit\u001b[0m\u001b[0;34m(\u001b[0m\u001b[0mself\u001b[0m\u001b[0;34m,\u001b[0m \u001b[0mtemp\u001b[0m\u001b[0;34m)\u001b[0m\u001b[0;34m:\u001b[0m\u001b[0;34m\u001b[0m\u001b[0m\n\u001b[1;32m     11\u001b[0m         \u001b[0;32mif\u001b[0m \u001b[0mtemp\u001b[0m \u001b[0;34m<\u001b[0m \u001b[0;34m-\u001b[0m\u001b[0;36m460\u001b[0m\u001b[0;34m:\u001b[0m\u001b[0;34m\u001b[0m\u001b[0m\n\u001b[0;32m---> 12\u001b[0;31m             \u001b[0;32mraise\u001b[0m \u001b[0mValueError\u001b[0m\u001b[0;34m(\u001b[0m\u001b[0;34m'Temperatures less then -460F are not possible'\u001b[0m\u001b[0;34m)\u001b[0m\u001b[0;34m\u001b[0m\u001b[0m\n\u001b[0m\u001b[1;32m     13\u001b[0m         \u001b[0mself\u001b[0m\u001b[0;34m.\u001b[0m\u001b[0mcelsius\u001b[0m \u001b[0;34m=\u001b[0m \u001b[0;34m(\u001b[0m\u001b[0mtemp\u001b[0m \u001b[0;34m-\u001b[0m \u001b[0;36m32\u001b[0m\u001b[0;34m)\u001b[0m \u001b[0;34m*\u001b[0m \u001b[0;36m5\u001b[0m \u001b[0;34m/\u001b[0m \u001b[0;36m9\u001b[0m\u001b[0;34m\u001b[0m\u001b[0m\n\u001b[1;32m     14\u001b[0m \u001b[0;34m\u001b[0m\u001b[0m\n",
            "\u001b[0;31mValueError\u001b[0m: Temperatures less then -460F are not possible"
          ]
        }
      ]
    },
    {
      "metadata": {
        "trusted": true
      },
      "cell_type": "code",
      "source": "#The DRY principle - single inheritance\nclass Pet():\n    def __init__(self, name, weight):\n        self.name = name\n        self.weight = weight\n        \nclass Cat(Pet):\n    is_feline = True\n    \nclass Dog(Pet):\n    is_feline = False\n    \nmy_cat = Cat('kibbles', 8)\nmy_cat.name\nmy_dog = Dog('ham', 10)\nmy_dog.is_feline",
      "execution_count": 1,
      "outputs": [
        {
          "output_type": "stream",
          "text": "kibbles\n",
          "name": "stdout"
        },
        {
          "output_type": "execute_result",
          "execution_count": 1,
          "data": {
            "text/plain": "False"
          },
          "metadata": {}
        }
      ]
    },
    {
      "metadata": {},
      "cell_type": "markdown",
      "source": "## Exercise 81: Inheriting from the Person Class"
    },
    {
      "metadata": {
        "trusted": true
      },
      "cell_type": "code",
      "source": "class Person():\n    def __init__(self, fs_name, ls_name):\n        self.fs_name = fs_name\n        self.ls_name = ls_name\n        \nclass Baby(Person):\n    def speak(self):\n        print(\"Blah blah blah\")\n        \nclass Adult(Person):\n    def speak(self):\n        print('Hello, my name is %s %s' % (self.fs_name, self.ls_name))\n        \njess = Baby('Jessie', 'McDonald')\ntom = Adult('Thomas', 'Smith')\njess.speak()\ntom.speak()",
      "execution_count": 16,
      "outputs": [
        {
          "output_type": "stream",
          "text": "Blah blah blah\nHello, my name is Thomas Smith\n",
          "name": "stdout"
        }
      ]
    },
    {
      "metadata": {
        "trusted": true
      },
      "cell_type": "code",
      "source": "#Sub-classing Classes from Python Packages",
      "execution_count": null,
      "outputs": []
    },
    {
      "metadata": {
        "trusted": true
      },
      "cell_type": "code",
      "source": "class MyInt(int):\n    def is_divisible_by(self, x):\n        return self % x == 0\n\na = MyInt(9)\na.is_divisible_by(3)",
      "execution_count": 18,
      "outputs": [
        {
          "output_type": "execute_result",
          "execution_count": 18,
          "data": {
            "text/plain": "True"
          },
          "metadata": {}
        }
      ]
    },
    {
      "metadata": {
        "trusted": true
      },
      "cell_type": "markdown",
      "source": "## Exercise 82: Sub-classing the datetime.date class"
    },
    {
      "metadata": {
        "trusted": true
      },
      "cell_type": "code",
      "source": "import datetime\n\nclass MyDate(datetime.date):\n    def add_days(self, n):\n        return self + datetime.timedelta(n)\n    \nd = MyDate(2019, 12, 1)\nprint(d.add_days(40))\nprint(d.add_days(400))",
      "execution_count": 4,
      "outputs": [
        {
          "output_type": "stream",
          "text": "2020-01-10\n2021-01-04\n",
          "name": "stdout"
        }
      ]
    },
    {
      "metadata": {
        "trusted": true
      },
      "cell_type": "code",
      "source": "new_person = Person('Marry', \"Smith\")\nnew_person.full_name = 'Marry Anne Smith'",
      "execution_count": 7,
      "outputs": [
        {
          "output_type": "error",
          "ename": "ValueError",
          "evalue": "too many values to unpack (expected 2)",
          "traceback": [
            "\u001b[0;31m---------------------------------------------------------------------------\u001b[0m",
            "\u001b[0;31mValueError\u001b[0m                                Traceback (most recent call last)",
            "\u001b[0;32m<ipython-input-7-73e3ab7a4362>\u001b[0m in \u001b[0;36m<module>\u001b[0;34m\u001b[0m\n\u001b[1;32m      1\u001b[0m \u001b[0mnew_person\u001b[0m \u001b[0;34m=\u001b[0m \u001b[0mPerson\u001b[0m\u001b[0;34m(\u001b[0m\u001b[0;34m'Marry'\u001b[0m\u001b[0;34m,\u001b[0m \u001b[0;34m\"Smith\"\u001b[0m\u001b[0;34m)\u001b[0m\u001b[0;34m\u001b[0m\u001b[0m\n\u001b[0;32m----> 2\u001b[0;31m \u001b[0mnew_person\u001b[0m\u001b[0;34m.\u001b[0m\u001b[0mfull_name\u001b[0m \u001b[0;34m=\u001b[0m \u001b[0;34m'Marry Anne Smith'\u001b[0m\u001b[0;34m\u001b[0m\u001b[0m\n\u001b[0m",
            "\u001b[0;32m<ipython-input-6-3b0733d99579>\u001b[0m in \u001b[0;36mfull_name\u001b[0;34m(self, name)\u001b[0m\n\u001b[1;32m     10\u001b[0m     \u001b[0;34m@\u001b[0m\u001b[0mfull_name\u001b[0m\u001b[0;34m.\u001b[0m\u001b[0msetter\u001b[0m\u001b[0;34m\u001b[0m\u001b[0m\n\u001b[1;32m     11\u001b[0m     \u001b[0;32mdef\u001b[0m \u001b[0mfull_name\u001b[0m\u001b[0;34m(\u001b[0m\u001b[0mself\u001b[0m\u001b[0;34m,\u001b[0m \u001b[0mname\u001b[0m\u001b[0;34m)\u001b[0m\u001b[0;34m:\u001b[0m\u001b[0;34m\u001b[0m\u001b[0m\n\u001b[0;32m---> 12\u001b[0;31m         \u001b[0mfirst\u001b[0m\u001b[0;34m,\u001b[0m \u001b[0mlast\u001b[0m \u001b[0;34m=\u001b[0m \u001b[0mname\u001b[0m\u001b[0;34m.\u001b[0m\u001b[0msplit\u001b[0m\u001b[0;34m(\u001b[0m\u001b[0;34m' '\u001b[0m\u001b[0;34m)\u001b[0m\u001b[0;34m\u001b[0m\u001b[0m\n\u001b[0m\u001b[1;32m     13\u001b[0m         \u001b[0mself\u001b[0m\u001b[0;34m.\u001b[0m\u001b[0mfirst_name\u001b[0m \u001b[0;34m=\u001b[0m \u001b[0mfirst\u001b[0m\u001b[0;34m\u001b[0m\u001b[0m\n\u001b[1;32m     14\u001b[0m         \u001b[0mself\u001b[0m\u001b[0;34m.\u001b[0m\u001b[0mlast_name\u001b[0m \u001b[0;34m=\u001b[0m \u001b[0mlast\u001b[0m\u001b[0;34m\u001b[0m\u001b[0m\n",
            "\u001b[0;31mValueError\u001b[0m: too many values to unpack (expected 2)"
          ]
        }
      ]
    },
    {
      "metadata": {
        "trusted": true
      },
      "cell_type": "code",
      "source": "class BetterPerson(Person):\n    @property\n    def full_name(self):\n        return '%s %s' % (self.first_name, self.last_name)\n    \n    @full_name.setter\n    def full_name(self, name):\n        names = name.split(' ')\n        self.first_name = names[0]\n        if len(names) > 2:\n            self.last_name = ' '.join(names[1:])\n        elif len(names) == 2:\n            self.last_name = names[1]\n\nm_new_pers = BetterPerson('Mary', 'Smith')\nm_new_pers.full_name = 'Mary Anne Smith'\nprint(m_new_pers.first_name)\nprint(m_new_pers.last_name)",
      "execution_count": 10,
      "outputs": [
        {
          "output_type": "stream",
          "text": "Mary\nAnne Smith\n",
          "name": "stdout"
        }
      ]
    },
    {
      "metadata": {
        "trusted": true
      },
      "cell_type": "code",
      "source": "#calling the Parent Method with super()\n\nclass Person():\n    def __init__(self, fs_name, ls_name):\n        self.fs_name = fs_name\n        self.ls_name = ls_name\n        \n    def speak(self):\n        print('Hello, my name is %s %s' % (self.fs_name, self.ls_name))\n        \nclass TalkativePerson(Person):\n    def speak(self):\n        super().speak()\n        print('It a pleasure to meet you!')\n        \njohn = TalkativePerson('John', 'Tomic')\njohn.speak()        ",
      "execution_count": 12,
      "outputs": [
        {
          "output_type": "stream",
          "text": "Hello, my name is John Tomic\nIt a pleasure to meet you!\n",
          "name": "stdout"
        }
      ]
    },
    {
      "metadata": {},
      "cell_type": "markdown",
      "source": "## Exercise 83: Ovrriding Methods using super()"
    },
    {
      "metadata": {
        "trusted": true
      },
      "cell_type": "code",
      "source": "import datetime\nclass Diary():\n    def __init__(self, birthday, christmas):\n        self.birthday = birthday\n        self.christmas = christmas\n        \n    @staticmethod\n    def format_date(date):\n        return date.strftime('%d-%b-%y')\n    \n    def show_birthday(self):\n        return self.format_date(self.birthday)\n    \n    def show_christmas(self):\n        return self.format_date(self.christmas)\n    \nclass CustomDiary(Diary):\n    def __init__(self, birthday, christmas, date_format):\n        self.date_format = date_format\n        super().__init__(birthday, christmas)\n        \n    def format_date(self, date):\n        return date.strftime(self.date_format)\n\nfirst_diary = CustomDiary(datetime.date(2018,1,1), datetime.date(2018,3,3), '%d-%b-%Y')\nsecond_diary = CustomDiary(datetime.date(2018,1,1), datetime.date(2018,3,3), '%d/%m/%Y')\nprint(first_diary.show_birthday())\nprint(second_diary.show_christmas())",
      "execution_count": 13,
      "outputs": [
        {
          "output_type": "stream",
          "text": "01-Jan-2018\n03/03/2018\n",
          "name": "stdout"
        }
      ]
    },
    {
      "metadata": {},
      "cell_type": "markdown",
      "source": "## Exercise 84: Creating a Consultation Appointment System"
    },
    {
      "metadata": {
        "trusted": true
      },
      "cell_type": "code",
      "source": "import datetime\n\nclass Person():\n    def __init__(self, first_name, last_name):\n        self.first_name = first_name\n        self.last_name = last_name\n        \nclass Baby(Person):\n    def speak(self):\n        print('Blah blah blah')\n        \nclass Adult(Person):\n    def speak(self):\n        print('Hello, my name is %s %s' % (self.first_name, self.last_name))\n        \nclass Calendar():\n    def book_appointment(self, date):\n        print('Booking appointment for date %s' % date)\n        \nclass OrganizedAdult(Adult, Calendar):\n    pass\n\nclass OrganizedBaby(Baby, Calendar):\n    def book_appointment(self, date):\n        print('Note that you are booking an appointment with a baby.')\n        super().book_appointment(date)\n\nandres = OrganizedAdult('Andres', 'Gomez')\nboris = OrganizedBaby('Boris', 'Bumblebutton')\nandres.speak()\nboris.speak()\nboris.book_appointment(datetime.date(2018,1,1))",
      "execution_count": 15,
      "outputs": [
        {
          "output_type": "stream",
          "text": "Hello, my name is Andres Gomez\nBlah blah blah\nNote that you are booking an appointment with a baby.\nBooking appointment for date 2018-01-01\n",
          "name": "stdout"
        }
      ]
    },
    {
      "metadata": {
        "trusted": true
      },
      "cell_type": "code",
      "source": "#Method Resolution order\n\nclass Dog():\n    def make_sound(self):\n        print('Woof!')\n        \nclass Cat():\n    def make_sound(self):\n        print('Miaw!')\n        \nclass DogCat(Dog, Cat):\n    def make_sound(self):\n        for i in range(3):\n            super().make_sound()\n\nmy_pet = DogCat()\nmy_pet.make_sound()",
      "execution_count": 19,
      "outputs": [
        {
          "output_type": "stream",
          "text": "Woof!\nWoof!\nWoof!\n",
          "name": "stdout"
        }
      ]
    },
    {
      "metadata": {},
      "cell_type": "markdown",
      "source": "## Activity 14: Creating Classes and Inheriting from a Parent Class"
    },
    {
      "metadata": {
        "trusted": true
      },
      "cell_type": "code",
      "source": "class Polygon():\n    \"\"\"A class to capture common utilities for dealing with shapes\"\"\"\n    def __init__(self, side_lengths):\n        self.side_lengths = side_lengths\n        \n    def __str__(self):\n        return 'Polygon with %s sides' % self.num_sides \n        \n    @property\n    def num_sides(self):\n        return len(self.side_lengths)\n        \n    @property\n    def perimeter(self):\n        return sum(self.side_lengths)\n        \nclass Rectangle(Polygon):\n    def __init__(self, height, width):\n        super().__init__([height, width, height, width])\n        \n    @property\n    def area(self):\n        return self.side_lengths[0] * self.side_lengths[1]\n    \nclass Square(Rectangle):\n    def __init__(self, height):\n        super().__init__(height, height)\n        \nr = Rectangle(1, 5)\nr.area, r.perimeter, r.num_sides\n\ns = Square(5)\ns.area, s.perimeter, s.num_sides",
      "execution_count": 53,
      "outputs": [
        {
          "output_type": "execute_result",
          "execution_count": 53,
          "data": {
            "text/plain": "(25, 20, 4)"
          },
          "metadata": {}
        }
      ]
    },
    {
      "metadata": {
        "trusted": true
      },
      "cell_type": "code",
      "source": "",
      "execution_count": null,
      "outputs": []
    }
  ],
  "metadata": {
    "kernelspec": {
      "name": "python36",
      "display_name": "Python 3.6",
      "language": "python"
    },
    "language_info": {
      "mimetype": "text/x-python",
      "nbconvert_exporter": "python",
      "name": "python",
      "pygments_lexer": "ipython3",
      "version": "3.6.6",
      "file_extension": ".py",
      "codemirror_mode": {
        "version": 3,
        "name": "ipython"
      }
    }
  },
  "nbformat": 4,
  "nbformat_minor": 2
}